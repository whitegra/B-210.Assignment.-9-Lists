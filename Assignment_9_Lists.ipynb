{
  "nbformat": 4,
  "nbformat_minor": 0,
  "metadata": {
    "colab": {
      "provenance": []
    },
    "kernelspec": {
      "name": "python3",
      "display_name": "Python 3"
    },
    "language_info": {
      "name": "python"
    }
  },
  "cells": [
    {
      "cell_type": "markdown",
      "source": [
        "def for sodoku grid"
      ],
      "metadata": {
        "id": "agGCSSnQfjOg"
      }
    },
    {
      "cell_type": "code",
      "source": [
        "def sodoku_grid():\n",
        "  '''\n",
        "  This function will take a user's sodoku input, and return if it is a valid grid or not.\n",
        "\n",
        "  Inputs: user's sodoku grid\n",
        "\n",
        "  Output: If the user's grid is valid or not.\n",
        "  '''\n",
        "  # for user to enter their grid:\n",
        "  user_grid = input(\"Enter your sodoku grid: \")\n",
        "\n",
        "  # Step #1 = convert input to a list of numbers using the 'replace' method:\n",
        "  # this will get rid of whitespace, commas, brackets:\n",
        "  grid = user_grid.replace(\" \", \"\").replace(\"[\", \"\").replace(\"]\", \"\").replace(\",\", \"\")\n",
        "\n",
        "  # this will convert the grid (user_grid) to a string of nums\n",
        "  # iterate through each character in the string (grid), and make sure it's a real number:\n",
        "  nums = [int(char) for char in grid if char.isdigit()]\n",
        "\n",
        "  # Step 2: make sure the nums are 1 <= num <= 9 for valid sodoku:\n",
        "  # = check if all numbers are within the range 1 - 9 (if not all nums are between 1 and 9, then it is invalid for sodoku):\n",
        "  if not all(1 <= num <= 9 for num in nums):\n",
        "    print(\"Invalid. All numbers in the sodoku must be between 1 and 9.\")\n",
        "\n",
        "  # Step 3: make sure there are 9 UNIQUE elements using len(set(nums)), which will order the numbers in set by unique elements (should == 9):\n",
        "  if len(set(nums)) != 9:\n",
        "    print(\"Invalid. There must be at least 9 UNIQUE elements in a sodoku grid.\")\n",
        "  else:\n",
        "    print(\"The sodoku grid is valid.\")\n",
        "\n"
      ],
      "metadata": {
        "id": "qxHn8R7afjYn"
      },
      "execution_count": 1,
      "outputs": []
    },
    {
      "cell_type": "markdown",
      "source": [
        "def for number of unique words:"
      ],
      "metadata": {
        "id": "lNG1MIFMfjfu"
      }
    },
    {
      "cell_type": "code",
      "source": [
        "def count_common_words():\n",
        "  '''\n",
        "  This function will take a user's string input, and return the number of unique words, and the number of words that occur the most within the passage.\n",
        "\n",
        "  The input is the user's passage.\n",
        "\n",
        "  The output is the number of unique words, and the words that occur the most often within the user's input string.\n",
        "  '''\n",
        "  # for the user to enter the passage:\n",
        "  user_passage = input(\"Enter the passage you would like to analyze: \")\n",
        "\n",
        "  # this is to split the user's input into individual words using the '.split' method:\n",
        "  passage_words = user_passage.split()\n",
        "\n",
        "  # this is to count all of the words in the passage, and to store them into a list for later:\n",
        "  # innitialize the word count dictionary (i don't know how else to do this besides using a dict)\n",
        "  passage_word_count = {}\n",
        "  for word in passage_words:\n",
        "    # this will count the words from the dict and innitialize the count to zero and add one for every time it is in the passage_word_count dict:\n",
        "    passage_word_count[word] = passage_word_count.get(word, 0) + 1\n",
        "\n",
        "  # using the 'len' function, it will automatically count the number of unique words in the user's string:\n",
        "  unique_passage_words = len(set(passage_words))\n",
        "  # to print it in an 'astetically pleasing' way:\n",
        "  print(\"________________________________________________\")\n",
        "  print(f\"Number of unique words in the passage: {unique_passage_words}\")\n",
        "  print(\"________________________________________________\")\n",
        "\n",
        "  # this is to give the user the option to see the most commonly occuring words:\n",
        "  common_words = input(\"Would you like to see the number of times the most common words occur? ('y/n'): \")\n",
        "  if common_words == 'y':\n",
        "    # most common = max numbers from the passage word count dict as above = '.values' function and 'max' function:\n",
        "    max_common_words = max(passage_word_count.values())\n",
        "    # to print:\n",
        "    print(f\"The most commonly occuring word(s) from the passage occur {max_common_words} times in the passage.\")\n",
        "  else:\n",
        "    print(\"ok\")"
      ],
      "metadata": {
        "id": "TAerruCDfjll"
      },
      "execution_count": 2,
      "outputs": []
    },
    {
      "cell_type": "markdown",
      "source": [
        "MAIN"
      ],
      "metadata": {
        "id": "ES_LY5u6fjrT"
      }
    },
    {
      "cell_type": "code",
      "source": [
        "while True:\n",
        "  # for user to chose the program\n",
        "  program_choice = input(\"Enter the program you would like to run: ('s' for analyze sodoku or 'c' for count passage words: )\")\n",
        "\n",
        "  # in case user enters an invalid program choice\n",
        "  if program_choice != 's' and program_choice != 'c':\n",
        "    print(\"Invalid choice. Please try again. \")\n",
        "    continue\n",
        "\n",
        "  # FOR ANALYZING SODOKU GRID:\n",
        "  elif program_choice == 's':\n",
        "    while True:\n",
        "      sodoku_grid()\n",
        "      run_sodoku = input(\"Run again? ('y/n'):\")\n",
        "      if run_sodoku != 'y':\n",
        "        break\n",
        "\n",
        "  # FOR COUNTING THE PASSAGE WORDS:\n",
        "  elif program_choice == 'c':\n",
        "    while True:\n",
        "      count_common_words()\n",
        "      run_count = input(\"Run again? ('y/n'): \")\n",
        "      if run_count != 'y':\n",
        "        break\n",
        "\n",
        "  # invlaid choice\n",
        "  else:\n",
        "    print(\"invalid choice. Please try again. /n\")\n",
        "    continue\n",
        "\n",
        "# run program again (while loop)\n",
        "  run_program_again = input(\"Would you like to run the program again? ('y' for yes, 'stop' to exit): \")\n",
        "  if run_program_again != 'y':\n",
        "    break"
      ],
      "metadata": {
        "id": "gRgkDAnufjwI",
        "colab": {
          "base_uri": "https://localhost:8080/"
        },
        "outputId": "a125a027-9d52-4513-82e5-a3ac5afdd5f5"
      },
      "execution_count": 4,
      "outputs": [
        {
          "name": "stdout",
          "output_type": "stream",
          "text": [
            "Enter the program you would like to run: ('s' for analyze sodoku or 'c' for count passage words: )s\n",
            "Enter your sodoku grid: [1,2,3,4,5,6,7,8,9]\n",
            "The sodoku grid is valid.\n",
            "Run again? ('y/n'):y\n",
            "Enter your sodoku grid: [[5, 3, 4], [6, 7, 2], [1, 9, 8]]\n",
            "The sodoku grid is valid.\n",
            "Run again? ('y/n'):y\n",
            "Enter your sodoku grid: [[8, 5, 9], [4, 2, 6], [8, 1, 3]]\n",
            "Invalid. There must be at least 9 UNIQUE elements in a sodoku grid.\n",
            "Run again? ('y/n'):y\n",
            "Enter your sodoku grid: [[9, 9, 2], [3, 4, 8], [5, 6, 7]]\n",
            "Invalid. There must be at least 9 UNIQUE elements in a sodoku grid.\n",
            "Run again? ('y/n'):y\n",
            "Enter your sodoku grid: [[7, 6, 1], [6, 8, 5], [3, 9, 6]]\n",
            "Invalid. There must be at least 9 UNIQUE elements in a sodoku grid.\n",
            "Run again? ('y/n'):y\n",
            "Enter your sodoku grid: [[4, 2, E], [7, 9 , I], [8, S, 6]]\n",
            "Invalid. There must be at least 9 UNIQUE elements in a sodoku grid.\n",
            "Run again? ('y/n'):y\n",
            "Enter your sodoku grid: [[6, 7, 8], [1, 9, 5, 3], [3, 4, 2]]\n",
            "The sodoku grid is valid.\n",
            "Run again? ('y/n'):n\n",
            "Would you like to run the program again? ('y' for yes, 'stop' to exit): y\n",
            "Enter the program you would like to run: ('s' for analyze sodoku or 'c' for count passage words: )c\n",
            "Enter the passage you would like to analyze: It was many and many a year ago In a kingdom by the sea That a maiden there lived whom you may know By the name of Annabel Lee And this maiden she lived with no other thought Than to love and be loved by me\n",
            "________________________________________________\n",
            "Number of unique words in the passage: 38\n",
            "________________________________________________\n",
            "Would you like to see the number of times the most common words occur? ('y/n'): y\n",
            "The most commonly occuring word(s) from the passage occur 3 times in the passage.\n",
            "Run again? ('y/n'): y\n",
            "Enter the passage you would like to analyze: I was a child and she was a child In this kingdom by the sea But we loved with a love that was more than love I and my Annabel Lee With a love that the winged seraphs of Heaven Coveted her and me\n",
            "________________________________________________\n",
            "Number of unique words in the passage: 31\n",
            "________________________________________________\n",
            "Would you like to see the number of times the most common words occur? ('y/n'): n\n",
            "ok\n",
            "Run again? ('y/n'): y\n",
            "Enter the passage you would like to analyze: And this was the reason that long ago In this kingdom by the sea A wind blew out of a cloud chilling My beautiful Annabel Lee So that her highborn kinsmen came And bore her away from me To shut her up in a sepulchre In this kingdom by the sea\n",
            "________________________________________________\n",
            "Number of unique words in the passage: 38\n",
            "________________________________________________\n",
            "Would you like to see the number of times the most common words occur? ('y/n'): n\n",
            "ok\n",
            "Run again? ('y/n'): y\n",
            "Enter the passage you would like to analyze: The angels not half so happy in Heaven Went envying her and me Yes that was the reason as all men know In this kingdom by the sea That the wind came out of the cloud by night Chilling and killing my Annabel Lee\n",
            "________________________________________________\n",
            "Number of unique words in the passage: 39\n",
            "________________________________________________\n",
            "Would you like to see the number of times the most common words occur? ('y/n'): y\n",
            "The most commonly occuring word(s) from the passage occur 4 times in the passage.\n",
            "Run again? ('y/n'): y\n",
            "Enter the passage you would like to analyze: For the moon never beams without bringing me dreams Of the beautiful Annabel Lee And the stars never rise but I feel the bright eyes Of the beautiful Annabel Lee And so all the night-tide I lie down by the side Of my darling my darling my life and my bride In her sepulchre there by the sea In her tomb by the sounding sea\n",
            "________________________________________________\n",
            "Number of unique words in the passage: 40\n",
            "________________________________________________\n",
            "Would you like to see the number of times the most common words occur? ('y/n'): n\n",
            "ok\n",
            "Run again? ('y/n'): n\n",
            "Would you like to run the program again? ('y' for yes, 'stop' to exit): stop\n"
          ]
        }
      ]
    }
  ]
}